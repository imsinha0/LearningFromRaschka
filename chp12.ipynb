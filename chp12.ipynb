{
 "cells": [
  {
   "cell_type": "code",
   "id": "initial_id",
   "metadata": {
    "collapsed": true,
    "ExecuteTime": {
     "end_time": "2024-10-09T05:10:16.766242Z",
     "start_time": "2024-10-09T05:10:15.853342Z"
    }
   },
   "source": [
    "import torch\n",
    "import numpy as np\n",
    "\n",
    "np.set_printoptions(precision=3)\n",
    "a = [1,2,3]\n",
    "b = np.array([4,5,6], dtype=np.int32)\n",
    "t_a = torch.tensor(a)\n",
    "t_b = torch.from_numpy(b)\n",
    "print(t_a)\n",
    "print(t_b)"
   ],
   "outputs": [
    {
     "name": "stdout",
     "output_type": "stream",
     "text": [
      "tensor([1, 2, 3])\n",
      "tensor([4, 5, 6], dtype=torch.int32)\n"
     ]
    }
   ],
   "execution_count": 1
  },
  {
   "metadata": {
    "ExecuteTime": {
     "end_time": "2024-10-09T05:11:00.724820Z",
     "start_time": "2024-10-09T05:11:00.720568Z"
    }
   },
   "cell_type": "code",
   "source": [
    "t_ones = torch.ones(2,3)\n",
    "print(t_ones.shape)\n",
    "t_ones"
   ],
   "id": "e5dc025f4c9d2771",
   "outputs": [
    {
     "name": "stdout",
     "output_type": "stream",
     "text": [
      "torch.Size([2, 3])\n"
     ]
    },
    {
     "data": {
      "text/plain": [
       "tensor([[1., 1., 1.],\n",
       "        [1., 1., 1.]])"
      ]
     },
     "execution_count": 3,
     "metadata": {},
     "output_type": "execute_result"
    }
   ],
   "execution_count": 3
  },
  {
   "metadata": {
    "ExecuteTime": {
     "end_time": "2024-10-09T05:11:30.842045Z",
     "start_time": "2024-10-09T05:11:30.838467Z"
    }
   },
   "cell_type": "code",
   "source": [
    "rand_tensor = torch.rand(2,3)\n",
    "print(rand_tensor)"
   ],
   "id": "f6c74ddd5f11cf8a",
   "outputs": [
    {
     "name": "stdout",
     "output_type": "stream",
     "text": [
      "tensor([[0.4936, 0.4539, 0.5863],\n",
      "        [0.2031, 0.6899, 0.2898]])\n"
     ]
    }
   ],
   "execution_count": 5
  },
  {
   "metadata": {
    "ExecuteTime": {
     "end_time": "2024-10-09T05:12:27.586299Z",
     "start_time": "2024-10-09T05:12:27.577767Z"
    }
   },
   "cell_type": "code",
   "source": [
    "t_a_new = t_a.to(torch.int64)\n",
    "print(t_a_new.dtype)"
   ],
   "id": "c6e1ac1aa02cdc18",
   "outputs": [
    {
     "name": "stdout",
     "output_type": "stream",
     "text": [
      "torch.int64\n"
     ]
    }
   ],
   "execution_count": 6
  },
  {
   "metadata": {
    "ExecuteTime": {
     "end_time": "2024-10-09T05:13:06.855295Z",
     "start_time": "2024-10-09T05:13:06.852254Z"
    }
   },
   "cell_type": "code",
   "source": [
    "t = torch.rand(3,5)\n",
    "t_tr = torch.transpose(t, 0, 1)\n",
    "print(t.shape, '--->', t_tr.shape)"
   ],
   "id": "9da009fc14da6c01",
   "outputs": [
    {
     "name": "stdout",
     "output_type": "stream",
     "text": [
      "torch.Size([3, 5]) ---> torch.Size([5, 3])\n"
     ]
    }
   ],
   "execution_count": 7
  },
  {
   "metadata": {
    "ExecuteTime": {
     "end_time": "2024-10-09T05:13:49.454971Z",
     "start_time": "2024-10-09T05:13:49.447095Z"
    }
   },
   "cell_type": "code",
   "source": [
    "t = torch.zeros(30)\n",
    "t_reshape = t.reshape(5,6)\n",
    "print(t_reshape)"
   ],
   "id": "5004543831467263",
   "outputs": [
    {
     "name": "stdout",
     "output_type": "stream",
     "text": [
      "tensor([[0., 0., 0., 0., 0., 0.],\n",
      "        [0., 0., 0., 0., 0., 0.],\n",
      "        [0., 0., 0., 0., 0., 0.],\n",
      "        [0., 0., 0., 0., 0., 0.],\n",
      "        [0., 0., 0., 0., 0., 0.]])\n"
     ]
    }
   ],
   "execution_count": 8
  },
  {
   "metadata": {
    "ExecuteTime": {
     "end_time": "2024-10-09T05:14:48.072020Z",
     "start_time": "2024-10-09T05:14:48.065971Z"
    }
   },
   "cell_type": "code",
   "source": [
    "t = torch.zeros(1,2,1,4,1)\n",
    "t_sqz = torch.squeeze(t,2) #take out 2nd dimension\n",
    "print(t.shape, '-->',t_sqz.shape)"
   ],
   "id": "6ae670abbd21c77f",
   "outputs": [
    {
     "name": "stdout",
     "output_type": "stream",
     "text": [
      "torch.Size([1, 2, 1, 4, 1]) --> torch.Size([1, 2, 4, 1])\n"
     ]
    }
   ],
   "execution_count": 9
  },
  {
   "metadata": {
    "ExecuteTime": {
     "end_time": "2024-10-09T05:17:21.804960Z",
     "start_time": "2024-10-09T05:17:21.792963Z"
    }
   },
   "cell_type": "code",
   "source": [
    "t1 = 2 * torch.rand(5,2) - 1 #uniform distribution\n",
    "t2 = torch.normal(mean=0, std=1,size=(5,2)) #normal distribution\n",
    "t3 = torch.multiply(t1, t2) #elementwise product\n",
    "print(t3)"
   ],
   "id": "11868f7496a82d01",
   "outputs": [
    {
     "name": "stdout",
     "output_type": "stream",
     "text": [
      "tensor([[ 0.3087,  1.4848],\n",
      "        [ 0.0446, -0.2088],\n",
      "        [ 0.5379,  0.0702],\n",
      "        [ 0.1149, -0.0714],\n",
      "        [-0.3491,  0.3353]])\n"
     ]
    }
   ],
   "execution_count": 10
  },
  {
   "metadata": {},
   "cell_type": "code",
   "outputs": [],
   "execution_count": null,
   "source": "",
   "id": "99dd870e893db415"
  }
 ],
 "metadata": {
  "kernelspec": {
   "display_name": "Python 3",
   "language": "python",
   "name": "python3"
  },
  "language_info": {
   "codemirror_mode": {
    "name": "ipython",
    "version": 2
   },
   "file_extension": ".py",
   "mimetype": "text/x-python",
   "name": "python",
   "nbconvert_exporter": "python",
   "pygments_lexer": "ipython2",
   "version": "2.7.6"
  }
 },
 "nbformat": 4,
 "nbformat_minor": 5
}
